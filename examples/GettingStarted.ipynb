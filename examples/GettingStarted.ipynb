{
 "cells": [
  {
   "cell_type": "markdown",
   "metadata": {},
   "source": [
    "## Bistable system"
   ]
  },
  {
   "cell_type": "code",
   "execution_count": 1,
   "metadata": {},
   "outputs": [
    {
     "name": "stderr",
     "output_type": "stream",
     "text": [
      "100%|██████████| 40/40 [00:00<00:00, 1273.40it/s]\n"
     ]
    }
   ],
   "source": [
    "%run get_data.py --system \"bistable\" --num_trajs 40 --time 5 --time_step 1 --save_dir '/data/bistable'\n",
    "\n",
    "# help\n",
    "# --time : Trajectory length\n",
    "# --time_step : Time step\n",
    "# --num_trajs : Number of trajectories\n",
    "# --save_dir : Save directory\n",
    "# --system : Select the system\n",
    "# --sample : Samples initial conditions instead of on a grid\n"
   ]
  },
  {
   "cell_type": "code",
   "execution_count": 2,
   "metadata": {},
   "outputs": [
    {
     "name": "stdout",
     "output_type": "stream",
     "text": [
      "Getting data for:  bistable\n"
     ]
    },
    {
     "name": "stderr",
     "output_type": "stream",
     "text": [
      "100%|██████████| 40/40 [00:00<00:00, 1613.04it/s]\n"
     ]
    },
    {
     "name": "stdout",
     "output_type": "stream",
     "text": [
      "Device:  cpu\n"
     ]
    },
    {
     "name": "stderr",
     "output_type": "stream",
     "text": [
      " 26%|██▌       | 389/1500 [00:03<00:08, 128.31it/s]\n"
     ]
    }
   ],
   "source": [
    "%run train.py  --config \"bistable.txt\""
   ]
  },
  {
   "cell_type": "code",
   "execution_count": 3,
   "metadata": {},
   "outputs": [
    {
     "name": "stdout",
     "output_type": "stream",
     "text": [
      "Bounds for decoded space [-2, -2, -2, -2, -2, -2, -2, -2, -2, -2] [2, 2, 2, 2, 2, 2, 2, 2, 2, 2]\n",
      "Bounds for encoded space [-1, -1] [1, 1]\n",
      "[-0.0273494441062212, -0.8867921829223633] \n",
      " [0.5360956788063049, 0.8833286166191101]\n",
      "data on the latent space (16384, 2)\n",
      "[ 0.17803837 -0.35339236]\n",
      "output/bistable/bistable\n",
      "Compute_Morse_Graph. Initializing root MorseDecomposition\n",
      "Compute_Morse_Graph. A phase_space -> size () == 4096\n",
      "0:00:57.611685Compute_Morse_Graph. B phase_space -> size () == 4096\n",
      "Total Grid Memory (can be external) = 311518\n",
      "Max Memory For Single Grid (must be internal)= 311518\n",
      "Max SCC Random Access memory use (must be internal)= 34816\n",
      "Max SCC stack memory use (can be external memory) = 34848\n",
      " ---- SUMMARY ---- \n",
      "Internal Memory Requirement = 346334\n",
      "External Memory Requirement = 346366\n",
      "Max graph memory size (never stored, however) = 706584\n",
      "\n",
      "Time to build the regions of attraction = 0:00:27.722071\n",
      "dictionary with volume of all Morse tiles = {0: 0.3406530610652453, 1: 0.49673498539891753, 2: 0.018505813181528934}\n"
     ]
    },
    {
     "data": {
      "image/png": "[encoded data removed]",
      "text/plain": [
       "<Figure size 800x800 with 1 Axes>"
      ]
     },
     "metadata": {},
     "output_type": "display_data"
    }
   ],
   "source": [
    "%run get_MG_RoA.py --config \"bistable.txt\" --name_out bistable --RoA --sub 12"
   ]
  },
  {
   "cell_type": "markdown",
   "metadata": {},
   "source": [
    "## Bistable system with labels"
   ]
  },
  {
   "cell_type": "code",
   "execution_count": 1,
   "metadata": {},
   "outputs": [
    {
     "name": "stderr",
     "output_type": "stream",
     "text": [
      "100%|██████████| 40/40 [00:00<00:00, 841.91it/s]\n"
     ]
    }
   ],
   "source": [
    "%run get_data.py --system \"bistable\" --num_trajs 40 --time 5 --time_step 1 --save_dir '/data/bistable' --labels --save_labels '/data/bistable_success'\n",
    "\n",
    "# help\n",
    "# --labels: Output the labels\n",
    "# --save_labels: Save labels file.txt"
   ]
  },
  {
   "cell_type": "code",
   "execution_count": 4,
   "metadata": {},
   "outputs": [
    {
     "name": "stdout",
     "output_type": "stream",
     "text": [
      "Getting data for:  bistable\n"
     ]
    },
    {
     "name": "stderr",
     "output_type": "stream",
     "text": [
      "100%|██████████| 40/40 [00:00<00:00, 3795.06it/s]\n",
      "100%|██████████| 40/40 [00:00<00:00, 3797.12it/s]\n",
      "/usr/local/lib/python3.10/site-packages/torch/functional.py:504: UserWarning: torch.meshgrid: in an upcoming release, it will be required to pass the indexing argument. (Triggered internally at /Users/runner/work/pytorch/pytorch/pytorch/aten/src/ATen/native/TensorShape.cpp:3191.)\n",
      "  return _VF.meshgrid(tensors, **kwargs)  # type: ignore[attr-defined]\n",
      "/Users/ewerton/Dropbox/Codes/MORALS/MORALS/data_utils.py:119: UserWarning: The use of `x.T` on tensors of dimension other than 2 to reverse their shape is deprecated and it will throw an error in a future release. Consider `x.mT` to transpose batches of matrices or `x.permute(*torch.arange(x.ndim - 1, -1, -1))` to reverse the dimensions of a tensor. (Triggered internally at /Users/runner/work/pytorch/pytorch/pytorch/aten/src/ATen/native/TensorShape.cpp:3281.)\n",
      "  self.opposite_pairs = torch.stack(torch.meshgrid(success_indices, failure_indices)).T.reshape(-1,2)\n"
     ]
    },
    {
     "name": "stdout",
     "output_type": "stream",
     "text": [
      "Number of pairs:  400\n",
      "Device:  cpu\n"
     ]
    },
    {
     "name": "stderr",
     "output_type": "stream",
     "text": [
      " 28%|██▊       | 414/1500 [00:02<00:06, 159.28it/s]"
     ]
    },
    {
     "name": "stdout",
     "output_type": "stream",
     "text": [
      "Epoch 00387: reducing learning rate of group 0 to 1.0000e-04.\n"
     ]
    },
    {
     "name": "stderr",
     "output_type": "stream",
     "text": [
      " 32%|███▏      | 480/1500 [00:03<00:06, 156.43it/s]"
     ]
    },
    {
     "name": "stdout",
     "output_type": "stream",
     "text": [
      "Epoch 00455: reducing learning rate of group 0 to 1.0000e-05.\n"
     ]
    },
    {
     "name": "stderr",
     "output_type": "stream",
     "text": [
      " 35%|███▌      | 529/1500 [00:03<00:06, 152.09it/s]"
     ]
    },
    {
     "name": "stdout",
     "output_type": "stream",
     "text": [
      "Epoch 00506: reducing learning rate of group 0 to 1.0000e-06.\n"
     ]
    },
    {
     "name": "stderr",
     "output_type": "stream",
     "text": [
      " 39%|███▊      | 578/1500 [00:03<00:05, 156.79it/s]"
     ]
    },
    {
     "name": "stdout",
     "output_type": "stream",
     "text": [
      "Epoch 00557: reducing learning rate of group 0 to 1.0000e-07.\n"
     ]
    },
    {
     "name": "stderr",
     "output_type": "stream",
     "text": [
      " 41%|████▏     | 622/1500 [00:04<00:05, 150.69it/s]"
     ]
    },
    {
     "name": "stdout",
     "output_type": "stream",
     "text": [
      "Epoch 00608: reducing learning rate of group 0 to 1.0000e-08.\n"
     ]
    },
    {
     "name": "stderr",
     "output_type": "stream",
     "text": [
      "\n"
     ]
    }
   ],
   "source": [
    "%run train.py  --config \"bistable_labels.txt\""
   ]
  },
  {
   "cell_type": "code",
   "execution_count": 5,
   "metadata": {},
   "outputs": [
    {
     "name": "stdout",
     "output_type": "stream",
     "text": [
      "Bounds for decoded space [-2, -2, -2, -2, -2, -2, -2, -2, -2, -2] [2, 2, 2, 2, 2, 2, 2, 2, 2, 2]\n",
      "Bounds for encoded space [-1, -1] [1, 1]\n",
      "data on the latent space (16384, 2)\n",
      "[-0.363521  -0.0001571]\n",
      "output/bistable/bistable\n",
      "Compute_Morse_Graph. Initializing root MorseDecomposition\n",
      "Compute_Morse_Graph. A phase_space -> size () == 4096\n",
      "0:00:10.046238Compute_Morse_Graph. B phase_space -> size () == 4096\n",
      "Total Grid Memory (can be external) = 311518\n",
      "Max Memory For Single Grid (must be internal)= 311518\n",
      "Max SCC Random Access memory use (must be internal)= 34816\n",
      "Max SCC stack memory use (can be external memory) = 45656\n",
      " ---- SUMMARY ---- \n",
      "Internal Memory Requirement = 346334\n",
      "External Memory Requirement = 357174\n",
      "Max graph memory size (never stored, however) = 235712\n",
      "\n",
      "Time to build the regions of attraction = 0:00:05.108952\n",
      "dictionary with volume of all Morse tiles = {2: 0.1240234375, 0: 0.111328125, 3: 0.326171875, 1: 0.076171875, 4: 0.0234375}\n"
     ]
    },
    {
     "data": {
      "image/png": "[encoded data removed]",
      "text/plain": [
       "<Figure size 800x800 with 1 Axes>"
      ]
     },
     "metadata": {},
     "output_type": "display_data"
    }
   ],
   "source": [
    "%run get_MG_RoA.py --config \"bistable_labels.txt\" --name_out bistable --RoA --sub 12"
   ]
  },
  {
   "cell_type": "markdown",
   "metadata": {},
   "source": [
    "## 4D Pendulum"
   ]
  },
  {
   "cell_type": "code",
   "execution_count": 8,
   "metadata": {},
   "outputs": [
    {
     "name": "stdout",
     "output_type": "stream",
     "text": [
      "Getting data for:  pendulum\n"
     ]
    },
    {
     "name": "stderr",
     "output_type": "stream",
     "text": [
      "  0%|          | 0/301 [00:00<?, ?it/s]"
     ]
    },
    {
     "name": "stderr",
     "output_type": "stream",
     "text": [
      "100%|██████████| 301/301 [00:00<00:00, 2268.45it/s]\n",
      "100%|██████████| 301/301 [00:00<00:00, 6180.93it/s]\n"
     ]
    },
    {
     "name": "stdout",
     "output_type": "stream",
     "text": [
      "Number of pairs:  10440\n",
      "Device:  cpu\n"
     ]
    },
    {
     "name": "stderr",
     "output_type": "stream",
     "text": [
      " 17%|█▋        | 260/1500 [00:31<02:31,  8.16it/s]\n"
     ]
    }
   ],
   "source": [
    "%run train.py  --config \"pendulum_lqr.txt\""
   ]
  },
  {
   "cell_type": "code",
   "execution_count": 9,
   "metadata": {},
   "outputs": [
    {
     "name": "stdout",
     "output_type": "stream",
     "text": [
      "Bounds for decoded space [-3.141592653589793, -6.283185307179586] [3.141592653589793, 6.283185307179586]\n",
      "Bounds for encoded space [-1, -1] [1, 1]\n",
      "data on the latent space (16384, 2)\n",
      "[0.9980263  0.89025825]\n",
      "output/pendulum_lqr1k/2pendulum_lqr\n",
      "Compute_Morse_Graph. Initializing root MorseDecomposition\n",
      "Compute_Morse_Graph. A phase_space -> size () == 4096\n",
      "0:00:26.996464Compute_Morse_Graph. B phase_space -> size () == 4096\n",
      "Total Grid Memory (can be external) = 1246072\n",
      "Max Memory For Single Grid (must be internal)= 311518\n",
      "Max SCC Random Access memory use (must be internal)= 34816\n",
      "Max SCC stack memory use (can be external memory) = 71288\n",
      " ---- SUMMARY ---- \n",
      "Internal Memory Requirement = 346334\n",
      "External Memory Requirement = 1317360\n",
      "Max graph memory size (never stored, however) = 952504\n",
      "\n",
      "Time to build the regions of attraction = 0:00:14.782365\n",
      "dictionary with volume of all Morse tiles = {0: 0.72265625, 1: 0.431640625, 2: 0.0400390625}\n"
     ]
    },
    {
     "data": {
      "image/png": "[encoded data removed]",
      "text/plain": [
       "<Figure size 800x800 with 1 Axes>"
      ]
     },
     "metadata": {},
     "output_type": "display_data"
    }
   ],
   "source": [
    "%run get_MG_RoA.py --config \"pendulum_lqr.txt\" --name_out pendulum_lqr --RoA --sub 12"
   ]
  },
  {
   "cell_type": "code",
   "execution_count": null,
   "metadata": {},
   "outputs": [],
   "source": []
  }
 ],
 "metadata": {
  "kernelspec": {
   "display_name": "Python 3",
   "language": "python",
   "name": "python3"
  },
  "language_info": {
   "codemirror_mode": {
    "name": "ipython",
    "version": 3
   },
   "file_extension": ".py",
   "mimetype": "text/x-python",
   "name": "python",
   "nbconvert_exporter": "python",
   "pygments_lexer": "ipython3",
   "version": "3.10.11"
  },
  "orig_nbformat": 4
 },
 "nbformat": 4,
 "nbformat_minor": 2
}
